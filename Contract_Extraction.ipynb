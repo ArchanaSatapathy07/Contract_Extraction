{
  "nbformat": 4,
  "nbformat_minor": 0,
  "metadata": {
    "colab": {
      "provenance": []
    },
    "kernelspec": {
      "name": "python3",
      "display_name": "Python 3"
    },
    "language_info": {
      "name": "python"
    }
  },
  "cells": [
    {
      "cell_type": "code",
      "source": [
        "!pip install pdfplumber"
      ],
      "metadata": {
        "colab": {
          "base_uri": "https://localhost:8080/"
        },
        "collapsed": true,
        "id": "ArlzHBZ_gZzQ",
        "outputId": "f8512480-bc28-49ae-c0dd-1f471b5be275"
      },
      "execution_count": null,
      "outputs": [
        {
          "output_type": "stream",
          "name": "stdout",
          "text": [
            "Collecting pdfplumber\n",
            "  Downloading pdfplumber-0.11.2-py3-none-any.whl (58 kB)\n",
            "\u001b[2K     \u001b[90m━━━━━━━━━━━━━━━━━━━━━━━━━━━━━━━━━━━━━━━━\u001b[0m \u001b[32m58.0/58.0 kB\u001b[0m \u001b[31m758.9 kB/s\u001b[0m eta \u001b[36m0:00:00\u001b[0m\n",
            "\u001b[?25hCollecting pdfminer.six==20231228 (from pdfplumber)\n",
            "  Downloading pdfminer.six-20231228-py3-none-any.whl (5.6 MB)\n",
            "\u001b[2K     \u001b[90m━━━━━━━━━━━━━━━━━━━━━━━━━━━━━━━━━━━━━━━━\u001b[0m \u001b[32m5.6/5.6 MB\u001b[0m \u001b[31m16.4 MB/s\u001b[0m eta \u001b[36m0:00:00\u001b[0m\n",
            "\u001b[?25hRequirement already satisfied: Pillow>=9.1 in /usr/local/lib/python3.10/dist-packages (from pdfplumber) (9.4.0)\n",
            "Collecting pypdfium2>=4.18.0 (from pdfplumber)\n",
            "  Downloading pypdfium2-4.30.0-py3-none-manylinux_2_17_x86_64.manylinux2014_x86_64.whl (2.8 MB)\n",
            "\u001b[2K     \u001b[90m━━━━━━━━━━━━━━━━━━━━━━━━━━━━━━━━━━━━━━━━\u001b[0m \u001b[32m2.8/2.8 MB\u001b[0m \u001b[31m31.3 MB/s\u001b[0m eta \u001b[36m0:00:00\u001b[0m\n",
            "\u001b[?25hRequirement already satisfied: charset-normalizer>=2.0.0 in /usr/local/lib/python3.10/dist-packages (from pdfminer.six==20231228->pdfplumber) (3.3.2)\n",
            "Requirement already satisfied: cryptography>=36.0.0 in /usr/local/lib/python3.10/dist-packages (from pdfminer.six==20231228->pdfplumber) (42.0.8)\n",
            "Requirement already satisfied: cffi>=1.12 in /usr/local/lib/python3.10/dist-packages (from cryptography>=36.0.0->pdfminer.six==20231228->pdfplumber) (1.16.0)\n",
            "Requirement already satisfied: pycparser in /usr/local/lib/python3.10/dist-packages (from cffi>=1.12->cryptography>=36.0.0->pdfminer.six==20231228->pdfplumber) (2.22)\n",
            "Installing collected packages: pypdfium2, pdfminer.six, pdfplumber\n",
            "Successfully installed pdfminer.six-20231228 pdfplumber-0.11.2 pypdfium2-4.30.0\n"
          ]
        }
      ]
    },
    {
      "cell_type": "code",
      "source": [
        "import pdfplumber\n",
        "import pandas as pd\n",
        "import re\n",
        "\n",
        "# Function to extract text from PDF\n",
        "def extract_text_from_pdf(pdf_path):\n",
        "    text = \"\"\n",
        "    with pdfplumber.open(pdf_path) as pdf:\n",
        "        for page in pdf.pages:\n",
        "            text += page.extract_text()\n",
        "    return text\n",
        "\n",
        "# Function to find the required information using regex and capture surrounding text\n",
        "def find_information(text):\n",
        "    info = {}\n",
        "    surrounding_context = {}\n",
        "\n",
        "    # Extracting information using regex patterns\n",
        "    contract_number_match = re.search(r'Contract Number:\\s*(.*)', text)\n",
        "    if contract_number_match:\n",
        "        info['contract_number'] = contract_number_match.group(1)\n",
        "    else:\n",
        "        info['contract_number'] = \"Not found\"\n",
        "    if re.search(r'entered into as of\\s*(\\w+ \\d+, \\d+)', text):\n",
        "        info['start_date'] = re.search(r'entered into as of\\s*(\\w+ \\d+, \\d+)', text).group(1)\n",
        "    else:\n",
        "      info['start_date'] = \"Not found\"\n",
        "    end_date_match = re.search(r'terminating on\\s*(\\w+ \\d+, \\d+)', text)\n",
        "    if end_date_match:\n",
        "        info['end_date'] = end_date_match.group(1)\n",
        "    else:\n",
        "        end_date_start = text.find(\"remain in effect until\")\n",
        "        surrounding_context['end_date_context'] = text[end_date_start:end_date_start + 500]\n",
        "        info['end_date'] = \"Not found\"\n",
        "\n",
        "    supplier_name_match = re.search(r'Party B:[\\s\\S]+Name:\\s*(.*)', text)\n",
        "    if supplier_name_match:\n",
        "        info['supplier_name'] = supplier_name_match.group(1)\n",
        "    else:\n",
        "        info['supplier_name'] = \"Not found\"\n",
        "\n",
        "    invoice_id_match = re.search(r'unique invoice number, starting with\\s*(\\w+-\\d+)', text)\n",
        "    if invoice_id_match:\n",
        "        info['invoice_id'] = invoice_id_match.group(1)\n",
        "    else:\n",
        "        info['invoice_id'] = \"Not found\"\n",
        "\n",
        "    amount_of_contract_match = re.search(r'Total Contract Amount:\\s*\\$(.*)', text)\n",
        "    if amount_of_contract_match:\n",
        "        info['amount_of_contract'] = amount_of_contract_match.group(1)\n",
        "    else:\n",
        "        amount_start = text.find(\"Total Contract Amount:\")\n",
        "        surrounding_context['amount_of_contract_context'] = text[amount_start:amount_start + 500]\n",
        "        info['amount_of_contract'] = \"Not found\"\n",
        "\n",
        "    # Extracting KPIs\n",
        "    kpi_pattern = re.compile(r'KPIs:[\\s\\S]+?(?=Reporting Requirements|Miscellaneous)')\n",
        "    kpis = kpi_pattern.search(text)\n",
        "    if kpis:\n",
        "        info['KPIs'] = kpis.group(0).strip()\n",
        "    else:\n",
        "        info['KPIs'] = \"Not found\"\n",
        "\n",
        "    # Extracting Reporting Requirements\n",
        "    reporting_pattern = re.compile(r'Reporting Requirements:[\\s\\S]+?(?=Miscellaneous)')\n",
        "    reporting_requirements = reporting_pattern.search(text)\n",
        "    if reporting_requirements:\n",
        "        info['reporting_requirements'] = reporting_requirements.group(0).strip()\n",
        "    else:\n",
        "        info['reporting_requirements'] = \"Not found\"\n",
        "\n",
        "    # Extracting Scope of Services\n",
        "    scope_pattern = re.compile(r'Scope\\s*of\\s*Services\\s*:[\\s\\S]+?(?=Term\\s*and\\s*Termination|$)')\n",
        "    scope_of_services_match = scope_pattern.search(text)\n",
        "    if scope_of_services_match:\n",
        "        scope_of_services_text = scope_of_services_match.group(0).strip()\n",
        "\n",
        "        # Extract subheadings and bullet points\n",
        "        subheadings_pattern = re.compile(r'([A-Z][\\w\\s]*):\\s*([\\s\\S]+?)(?=[A-Z][\\w\\s]*:|$)')\n",
        "        subheadings = subheadings_pattern.findall(scope_of_services_text)\n",
        "\n",
        "        subheadings_dict = {}\n",
        "        for subheading in subheadings:\n",
        "            subheadings_dict[subheading[0]] = subheading[1].strip().split('\\n')\n",
        "\n",
        "        info['scope_of_services'] = subheadings_dict\n",
        "    else:\n",
        "        scope_start = text.find(\"Scope of Services\")\n",
        "        surrounding_context['scope_of_services_context'] = text[scope_start:scope_start + 1000]\n",
        "        info['scope_of_services'] = \"Not found\"\n",
        "\n",
        "    return info, surrounding_context\n",
        "\n",
        "# Function to save the extracted information to an Excel file\n",
        "def save_to_excel(info, surrounding_context, excel_path):\n",
        "    data = {**info, **surrounding_context}\n",
        "    df = pd.DataFrame([data])\n",
        "    df.to_excel(excel_path, index=False)\n",
        "\n",
        "# Main execution\n",
        "pdf_path = '/content/Sample Contract.pdf'\n",
        "excel_path = '/content/Save_info.xlsx'\n",
        "\n",
        "text = extract_text_from_pdf(pdf_path)\n",
        "info, surrounding_context = find_information(text)\n",
        "save_to_excel(info, surrounding_context, excel_path)\n",
        "\n",
        "excel_path"
      ],
      "metadata": {
        "colab": {
          "base_uri": "https://localhost:8080/",
          "height": 35
        },
        "id": "gQOhTigGmTWk",
        "outputId": "02a2925c-4615-42b1-e0f0-8ff7b91da28b",
        "collapsed": true
      },
      "execution_count": 3,
      "outputs": [
        {
          "output_type": "execute_result",
          "data": {
            "text/plain": [
              "'/content/Save_info.xlsx'"
            ],
            "application/vnd.google.colaboratory.intrinsic+json": {
              "type": "string"
            }
          },
          "metadata": {},
          "execution_count": 3
        }
      ]
    },
    {
      "cell_type": "code",
      "source": [
        "pdf_path = '/content/Sample Contract.pdf'\n",
        "excel_path = '/content/Save_info.xlsx'\n",
        "\n",
        "# Extract text from PDF\n",
        "text = extract_text_from_pdf(pdf_path)\n",
        "\n",
        "# Extract information from the text using regex\n",
        "info, surrounding_context = find_information(text)\n",
        "\n",
        "# Print specific information\n",
        "print(\"Extracted Information:\")\n",
        "print(f\"Contract Number: {info['contract_number']}\")\n",
        "print(f\"Start Date: {info['start_date']}\")\n",
        "print(f\"End Date: {info['end_date']}\")\n",
        "print(f\"Supplier Name: {info['supplier_name']}\")\n",
        "print(f\"Invoice ID: {info['invoice_id']}\")\n",
        "print(f\"Amount of Contract: {info['amount_of_contract']}\")\n",
        "print(f\"KPIs:\\n{info['KPIs']}\")\n",
        "print(f\"Reporting Requirements:\\n{info['reporting_requirements']}\")\n",
        "print(f\"Scope of Services:\\n{info['scope_of_services']}\")\n",
        "\n",
        "# Save extracted information to Excel\n",
        "save_to_excel(info, surrounding_context, excel_path)\n",
        "\n",
        "# Display the path to the saved Excel file\n",
        "print(\"Excel file saved at:\", excel_path)\n"
      ],
      "metadata": {
        "colab": {
          "base_uri": "https://localhost:8080/"
        },
        "id": "k31fpqCcyJPW",
        "outputId": "25082a8b-dc18-42ed-9ea4-733ce5c407bc",
        "collapsed": true
      },
      "execution_count": 4,
      "outputs": [
        {
          "output_type": "stream",
          "name": "stdout",
          "text": [
            "Extracted Information:\n",
            "Contract Number: XYZ-ABC-2024-01\n",
            "Start Date: July 1, 2024\n",
            "End Date: July 1, 2026\n",
            "Supplier Name: Jane Smith, ABC Cleaning Services\n",
            "Invoice ID: INV-001\n",
            "Amount of Contract: Not found\n",
            "KPIs:\n",
            "KPIs:\n",
            "● Uptime: Percentage of scheduled cleaning services delivered on time. Target: 99%.\n",
            "● Response Time: Average time taken to respond to additional cleaning requests. Target:\n",
            "2 hours.\n",
            "● Customer Satisfaction: Feedback scores from XYZ Corporation's staff. Target: 4.5 out\n",
            "of 5.\n",
            "● Incident Frequency: Number of complaints or issues reported per month. Target: Less\n",
            "than 2 per month.\n",
            "10.2.\n",
            "Reporting Requirements:\n",
            "Reporting Requirements:\n",
            "● Monthly Performance Reports: Detailed metrics and analysis of KPIs, including service\n",
            "delivery times, response times, and customer feedback.\n",
            "● Incident Reports: Logs detailing any reported incidents, including descriptions, dates,\n",
            "and resolutions.\n",
            "● Maintenance Activity Reports: Summary of all cleaning activities conducted, including\n",
            "dates, times, and details of work performed.\n",
            "● Customer Feedback Reports: Compilation of satisfaction surveys and feedback\n",
            "received from XYZ Corporation, along with any suggestions for improvement.\n",
            "11.\n",
            "Scope of Services:\n",
            "Not found\n",
            "Excel file saved at: /content/Save_info.xlsx\n"
          ]
        }
      ]
    }
  ]
}